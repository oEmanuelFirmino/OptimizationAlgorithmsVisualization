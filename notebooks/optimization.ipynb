{
 "cells": [
  {
   "cell_type": "code",
   "execution_count": 3,
   "metadata": {},
   "outputs": [],
   "source": [
    "import numpy as np\n",
    "from src.optimizers import Adam, SGD\n",
    "from src.visualizers import animate_optimization\n",
    "\n",
    "np.random.seed(42)\n",
    "X = np.random.randn(100, 2)\n",
    "y = (X[:, 0] + X[:, 1] > 0).astype(int)\n",
    "\n",
    "weights = np.random.randn(2)\n",
    "optimizer = Adam(lr=0.1)\n",
    "history = []\n",
    "\n",
    "for _ in range(100):\n",
    "    gradients = np.dot(X.T, (1 / (1 + np.exp(-np.dot(X, weights))) - y)) / len(y)\n",
    "    weights = optimizer.update(weights, gradients)\n",
    "    history.append(weights.copy())\n",
    "\n",
    "animate_optimization(history)"
   ]
  }
 ],
 "metadata": {
  "kernelspec": {
   "display_name": ".venv",
   "language": "python",
   "name": "python3"
  },
  "language_info": {
   "codemirror_mode": {
    "name": "ipython",
    "version": 3
   },
   "file_extension": ".py",
   "mimetype": "text/x-python",
   "name": "python",
   "nbconvert_exporter": "python",
   "pygments_lexer": "ipython3",
   "version": "3.12.6"
  }
 },
 "nbformat": 4,
 "nbformat_minor": 2
}
